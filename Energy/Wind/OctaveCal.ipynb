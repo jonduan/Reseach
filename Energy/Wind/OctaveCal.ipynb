{
 "cells": [
  {
   "cell_type": "code",
   "execution_count": null,
   "metadata": {
    "collapsed": true
   },
   "outputs": [],
   "source": [
    "(11169 - 7162)/ 8760"
   ]
  },
  {
   "cell_type": "code",
   "execution_count": null,
   "metadata": {
    "collapsed": true
   },
   "outputs": [],
   "source": []
  },
  {
   "cell_type": "code",
   "execution_count": null,
   "metadata": {
    "collapsed": true
   },
   "outputs": [],
   "source": [
    "\n",
    "\n",
    "pkg install -forge symbolic\n",
    "pkg install symbolic-win-py-bundle-2.3.0.zip\n",
    "\n",
    "\n",
    "news symbolic\n",
    "pkg load symbolic\n",
    "syms x\n",
    "\n",
    "\n",
    "factor(x^2-x-6)\n",
    "\n",
    "% this is just a formula to start with,\n",
    "% have fun and change it if you want to.\n",
    "\n",
    "f=@(x) x.^2 +3*x-1 + 5*x.*sin(x);\n",
    "\n",
    "% the next 2 line take the Anonymous function into a symbolic formula\n",
    "\n",
    "syms x;\n",
    "\n",
    "ff=formula(f(x));\n",
    "\n",
    "% now calculate the derivative of the function\n",
    "\n",
    "ffd=diff(ff);\n",
    "\n",
    "% and convert it back to an Anonymous function\n",
    "\n",
    "df=function_handle(ffd)\n",
    "\n",
    "\n",
    "% this uses the interval pkg. to find all the roots between -15 an 10 \n",
    "\n",
    "fzero (f, infsup (-15, 10), df)\n",
    "\n",
    "ans ⊂ 4×1 interval vector\n",
    "\n",
    "    [-5.743488743719015, -5.743488743719013]\n",
    "    [-3.0962279604822407, -3.09622796048224]\n",
    "    [-0.777688831121563, -0.7776888311215626]\n",
    "    [0.22911205809043574, 0.2291120580904359]\n",
    "    \n",
    "    \n",
    "    \n",
    "    \n",
    "    \n",
    "    \n"
   ]
  },
  {
   "cell_type": "code",
   "execution_count": null,
   "metadata": {
    "collapsed": true
   },
   "outputs": [],
   "source": []
  },
  {
   "cell_type": "code",
   "execution_count": null,
   "metadata": {
    "collapsed": true
   },
   "outputs": [],
   "source": []
  },
  {
   "cell_type": "code",
   "execution_count": null,
   "metadata": {
    "collapsed": true
   },
   "outputs": [],
   "source": []
  },
  {
   "cell_type": "code",
   "execution_count": null,
   "metadata": {
    "collapsed": true
   },
   "outputs": [],
   "source": []
  },
  {
   "cell_type": "code",
   "execution_count": null,
   "metadata": {
    "collapsed": true
   },
   "outputs": [],
   "source": [
    "# This prog. shows how to take a\n",
    "# sring input and make it into an anonymous function\n",
    "# this uses the symbolic pkg.\n",
    "disp(\"Example input\")\n",
    "disp(\"x^2 + 3*x - 1 + 5*x*sin(x)\")\n",
    "str_fucn=input(\"please enter your function  \",\"s\")\n",
    "fucn_sym=sym(str_fucn)\n",
    "f=function_handle(fucn_sym)\n",
    "# now back to symbolic\n",
    "syms x;\n",
    "ff=formula(f(x));\n",
    "% now calculate the derivative of the function \n",
    "ffd=diff(ff);\n",
    "% and convert it back to an Anonymous function\n",
    "df=function_handle(ffd)\n",
    "% now lets do the second derivative\n",
    "ffdd=diff(ffd);\n",
    "ddf=function_handle(ffdd)\n",
    "% and now plot them all \n",
    "x1=-2:.0001:2;\n",
    "plot(x1,f(x1),x1,df(x1),x1,ddf(x1))\n",
    "grid minor on\n",
    "legend(\"f\",\"f '\", \"f '' \")    "
   ]
  },
  {
   "cell_type": "code",
   "execution_count": null,
   "metadata": {
    "collapsed": true
   },
   "outputs": [],
   "source": []
  }
 ],
 "metadata": {
  "kernelspec": {
   "display_name": "Octave",
   "language": "octave",
   "name": "octave"
  },
  "language_info": {
   "file_extension": ".m",
   "help_links": [
    {
     "text": "MetaKernel Magics",
     "url": "https://github.com/calysto/metakernel/blob/master/metakernel/magics/README.md"
    }
   ],
   "mimetype": "text/x-octave",
   "name": "octave",
   "version": "0.15.6"
  }
 },
 "nbformat": 4,
 "nbformat_minor": 0
}
